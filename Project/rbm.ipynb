{
 "cells": [
  {
   "cell_type": "code",
   "execution_count": 1,
   "metadata": {},
   "outputs": [],
   "source": [
    "import numpy as np\n",
    "import pandas as pd \n",
    "import matplotlib.pyplot as plt"
   ]
  },
  {
   "cell_type": "code",
   "execution_count": 2,
   "metadata": {},
   "outputs": [
    {
     "name": "stdout",
     "output_type": "stream",
     "text": [
      "X Train Shape : (60000, 196)\n",
      "X Test Shape  (10000, 196)\n",
      "y Train Shape : (60000,)\n",
      "y Test Shape  (10000,)\n"
     ]
    }
   ],
   "source": [
    "# mnist dataset (60000 train, 10000 test)\n",
    "# raw dataset\n",
    "train_data = pd.read_csv(\"mnist_train.csv\")\n",
    "test_data = pd.read_csv(\"mnist_test (2).csv\")\n",
    "\n",
    "#X_train = train_data.drop([\"label\"], axis = 1).values\n",
    "#X_test = test_data.drop([\"label\"], axis = 1).values\n",
    "\n",
    "y_train = train_data.label.values\n",
    "y_test = test_data.label.values\n",
    "\n",
    "# pca (196 features)\n",
    "rbm_train = pd.read_csv('x_train_rbm.csv')\n",
    "rbm_test = pd.read_csv('x_test_rbm.csv')\n",
    "\n",
    "\n",
    "X_train = rbm_train.values\n",
    "X_test = rbm_test.values\n",
    "\n",
    "\n",
    "print(\"X Train Shape :\", X_train.shape)\n",
    "print(\"X Test Shape \", X_test.shape)\n",
    "print(\"y Train Shape :\",y_train.shape)\n",
    "print(\"y Test Shape \",y_test.shape)"
   ]
  },
  {
   "cell_type": "code",
   "execution_count": 3,
   "metadata": {},
   "outputs": [],
   "source": [
    "X_train = X_train.reshape((-1,14,14))\n",
    "X_test = X_test.reshape((-1,4,14))"
   ]
  },
  {
   "cell_type": "code",
   "execution_count": 4,
   "metadata": {
    "scrolled": true
   },
   "outputs": [
    {
     "data": {
      "image/png": "[encoded data removed]",
      "text/plain": [
       "<Figure size 432x288 with 1 Axes>"
      ]
     },
     "metadata": {
      "needs_background": "light"
     },
     "output_type": "display_data"
    }
   ],
   "source": [
    "plt.imshow(X_train[1].reshape(14,14))\n",
    "plt.show()"
   ]
  },
  {
   "cell_type": "code",
   "execution_count": 5,
   "metadata": {},
   "outputs": [],
   "source": [
    "import tensorflow as tf\n",
    "import matplotlib.pyplot as plt\n",
    "from tensorflow.keras import datasets, layers, models, losses, Model"
   ]
  },
  {
   "cell_type": "code",
   "execution_count": 6,
   "metadata": {},
   "outputs": [],
   "source": [
    "X_train = tf.pad(X_train, [[0, 0], [2,2], [2,2]])/255\n",
    "X_test = tf.pad(X_test, [[0, 0], [2,2], [2,2]])/255\n",
    "X_train = tf.expand_dims(X_train, axis=3, name=None)\n",
    "X_test = tf.expand_dims(X_test, axis=3, name=None)\n",
    "X_train = tf.repeat(X_train, 3, axis=3)\n",
    "X_test = tf.repeat(X_test, 3, axis=3)\n",
    "X_val = X_train[-2000:,:,:,:]\n",
    "y_val = y_train[-2000:]\n",
    "X_train = X_train[:-2000,:,:,:]\n",
    "y_train = y_train[:-2000]"
   ]
  },
  {
   "cell_type": "code",
   "execution_count": 7,
   "metadata": {},
   "outputs": [
    {
     "data": {
      "text/plain": [
       "TensorShape([58000, 18, 18, 3])"
      ]
     },
     "execution_count": 7,
     "metadata": {},
     "output_type": "execute_result"
    }
   ],
   "source": [
    "X_train.shape"
   ]
  },
  {
   "cell_type": "code",
   "execution_count": 8,
   "metadata": {},
   "outputs": [],
   "source": [
    "def inception(x,\n",
    "              filters_1x1,\n",
    "              filters_3x3_reduce,\n",
    "              filters_3x3,\n",
    "              filters_5x5_reduce,\n",
    "              filters_5x5,\n",
    "              filters_pool):\n",
    "    path1 = layers.Conv2D(filters_1x1, (1, 1), padding='same',    activation='relu')(x)\n",
    "    path2 = layers.Conv2D(filters_3x3_reduce, (1, 1), padding='same', activation='relu')(x)\n",
    "    path2 = layers.Conv2D(filters_3x3, (1, 1), padding='same', activation='relu')(path2)\n",
    "    path3 = layers.Conv2D(filters_5x5_reduce, (1, 1), padding='same', activation='relu')(x)\n",
    "    path3 = layers.Conv2D(filters_5x5, (1, 1), padding='same', activation='relu')(path3)\n",
    "    path4 = layers.MaxPool2D((3, 3), strides=(1, 1), padding='same')(x)\n",
    "    path4 = layers.Conv2D(filters_pool, (1, 1), padding='same', activation='relu')(path4)\n",
    "    return tf.concat([path1, path2, path3, path4], axis=3)"
   ]
  },
  {
   "cell_type": "code",
   "execution_count": 9,
   "metadata": {},
   "outputs": [],
   "source": [
    "inp = layers.Input(shape=(18, 18, 3))\n",
    "input_tensor = layers.experimental.preprocessing.Resizing(224, 224, interpolation=\"bilinear\", input_shape=X_train.shape[1:])(inp)\n",
    "x = layers.Conv2D(64, 7, strides=2, padding='same', activation='relu')(input_tensor)\n",
    "x = layers.MaxPooling2D(3, strides=2)(x)\n",
    "x = layers.Conv2D(64, 1, strides=1, padding='same', activation='relu')(x)\n",
    "x = layers.Conv2D(192, 3, strides=1, padding='same', activation='relu')(x)\n",
    "x = layers.MaxPooling2D(3, strides=2)(x)\n",
    "x = inception(x, filters_1x1=64, filters_3x3_reduce=96, filters_3x3=128, filters_5x5_reduce=16, filters_5x5=32, filters_pool=32)\n",
    "x = inception(x, filters_1x1=128, filters_3x3_reduce=128, filters_3x3=192, filters_5x5_reduce=32, filters_5x5=96, filters_pool=64)\n",
    "x = layers.MaxPooling2D(3, strides=2)(x)\n",
    "x = inception(x, filters_1x1=192, filters_3x3_reduce=96, filters_3x3=208, filters_5x5_reduce=16, filters_5x5=48, filters_pool=64)\n",
    "aux1 = layers.AveragePooling2D((5, 5), strides=3)(x)\n",
    "aux1 =layers.Conv2D(128, 1, padding='same', activation='relu')(aux1)\n",
    "aux1 = layers.Flatten()(aux1)\n",
    "aux1 = layers.Dense(1024, activation='relu')(aux1)\n",
    "aux1 = layers.Dropout(0.7)(aux1)\n",
    "aux1 = layers.Dense(10, activation='softmax')(aux1)\n",
    "x = inception(x, filters_1x1=160, filters_3x3_reduce=112, filters_3x3=224, filters_5x5_reduce=24, filters_5x5=64, filters_pool=64)\n",
    "x = inception(x, filters_1x1=128, filters_3x3_reduce=128, filters_3x3=256, filters_5x5_reduce=24, filters_5x5=64, filters_pool=64)\n",
    "x = inception(x, filters_1x1=112, filters_3x3_reduce=144, filters_3x3=288, filters_5x5_reduce=32, filters_5x5=64, filters_pool=64)\n",
    "aux2 = layers.AveragePooling2D((5, 5), strides=3)(x)\n",
    "aux2 =layers.Conv2D(128, 1, padding='same', activation='relu')(aux2)\n",
    "aux2 = layers.Flatten()(aux2)\n",
    "aux2 = layers.Dense(1024, activation='relu')(aux2)\n",
    "aux2 = layers.Dropout(0.7)(aux2) \n",
    "aux2 = layers.Dense(10, activation='softmax')(aux2)\n",
    "x = inception(x, filters_1x1=256, filters_3x3_reduce=160, filters_3x3=320, filters_5x5_reduce=32, filters_5x5=128, filters_pool=128)\n",
    "x = layers.MaxPooling2D(3, strides=2)(x)\n",
    "x = inception(x, filters_1x1=256, filters_3x3_reduce=160, filters_3x3=320, filters_5x5_reduce=32, filters_5x5=128, filters_pool=128)\n",
    "x = inception(x, filters_1x1=384, filters_3x3_reduce=192, filters_3x3=384, filters_5x5_reduce=48, filters_5x5=128, filters_pool=128)\n",
    "x = layers.GlobalAveragePooling2D()(x)\n",
    "x = layers.Dropout(0.4)(x)\n",
    "out = layers.Dense(10, activation='softmax')(x)"
   ]
  },
  {
   "cell_type": "code",
   "execution_count": 10,
   "metadata": {},
   "outputs": [],
   "source": [
    "model = Model(inputs = inp, outputs = [out, aux1, aux2])"
   ]
  },
  {
   "cell_type": "code",
   "execution_count": 11,
   "metadata": {
    "scrolled": false
   },
   "outputs": [
    {
     "name": "stdout",
     "output_type": "stream",
     "text": [
      "Epoch 1/10\n",
      "907/907 [==============================] - 2262s 2s/step - loss: 3.6832 - dense_4_loss: 2.3020 - dense_1_loss: 2.3020 - dense_3_loss: 2.3021 - dense_4_accuracy: 0.1104 - dense_1_accuracy: 0.1086 - dense_3_accuracy: 0.1091 - val_loss: 3.6831 - val_dense_4_loss: 2.3020 - val_dense_1_loss: 2.3020 - val_dense_3_loss: 2.3019 - val_dense_4_accuracy: 0.1070 - val_dense_1_accuracy: 0.1070 - val_dense_3_accuracy: 0.1070\n",
      "Epoch 2/10\n",
      "907/907 [==============================] - 2255s 2s/step - loss: 3.6822 - dense_4_loss: 2.3013 - dense_1_loss: 2.3015 - dense_3_loss: 2.3014 - dense_4_accuracy: 0.1140 - dense_1_accuracy: 0.1139 - dense_3_accuracy: 0.1140 - val_loss: 3.6830 - val_dense_4_loss: 2.3019 - val_dense_1_loss: 2.3019 - val_dense_3_loss: 2.3018 - val_dense_4_accuracy: 0.1070 - val_dense_1_accuracy: 0.1070 - val_dense_3_accuracy: 0.1070\n",
      "Epoch 3/10\n",
      "907/907 [==============================] - 2256s 2s/step - loss: 3.6820 - dense_4_loss: 2.3012 - dense_1_loss: 2.3013 - dense_3_loss: 2.3012 - dense_4_accuracy: 0.1117 - dense_1_accuracy: 0.1117 - dense_3_accuracy: 0.1117 - val_loss: 3.6827 - val_dense_4_loss: 2.3017 - val_dense_1_loss: 2.3017 - val_dense_3_loss: 2.3017 - val_dense_4_accuracy: 0.1070 - val_dense_1_accuracy: 0.1070 - val_dense_3_accuracy: 0.1070\n",
      "Epoch 4/10\n",
      "907/907 [==============================] - 2248s 2s/step - loss: 3.6820 - dense_4_loss: 2.3013 - dense_1_loss: 2.3012 - dense_3_loss: 2.3012 - dense_4_accuracy: 0.1131 - dense_1_accuracy: 0.1131 - dense_3_accuracy: 0.1131 - val_loss: 3.6829 - val_dense_4_loss: 2.3018 - val_dense_1_loss: 2.3018 - val_dense_3_loss: 2.3018 - val_dense_4_accuracy: 0.1070 - val_dense_1_accuracy: 0.1070 - val_dense_3_accuracy: 0.1070\n",
      "Epoch 5/10\n",
      "907/907 [==============================] - 2245s 2s/step - loss: 3.6821 - dense_4_loss: 2.3013 - dense_1_loss: 2.3013 - dense_3_loss: 2.3013 - dense_4_accuracy: 0.1120 - dense_1_accuracy: 0.1120 - dense_3_accuracy: 0.1120 - val_loss: 3.6830 - val_dense_4_loss: 2.3019 - val_dense_1_loss: 2.3019 - val_dense_3_loss: 2.3019 - val_dense_4_accuracy: 0.1070 - val_dense_1_accuracy: 0.1070 - val_dense_3_accuracy: 0.1070\n",
      "Epoch 6/10\n",
      "907/907 [==============================] - 2250s 2s/step - loss: 3.6815 - dense_4_loss: 2.3010 - dense_1_loss: 2.3009 - dense_3_loss: 2.3009 - dense_4_accuracy: 0.1148 - dense_1_accuracy: 0.1148 - dense_3_accuracy: 0.1148 - val_loss: 3.6826 - val_dense_4_loss: 2.3016 - val_dense_1_loss: 2.3016 - val_dense_3_loss: 2.3016 - val_dense_4_accuracy: 0.1070 - val_dense_1_accuracy: 0.1070 - val_dense_3_accuracy: 0.1070\n",
      "Epoch 7/10\n",
      "907/907 [==============================] - 2250s 2s/step - loss: 3.6823 - dense_4_loss: 2.3014 - dense_1_loss: 2.3014 - dense_3_loss: 2.3014 - dense_4_accuracy: 0.1125 - dense_1_accuracy: 0.1125 - dense_3_accuracy: 0.1125 - val_loss: 3.6829 - val_dense_4_loss: 2.3018 - val_dense_1_loss: 2.3018 - val_dense_3_loss: 2.3018 - val_dense_4_accuracy: 0.1070 - val_dense_1_accuracy: 0.1070 - val_dense_3_accuracy: 0.1070\n",
      "Epoch 8/10\n",
      "907/907 [==============================] - 2243s 2s/step - loss: 3.6815 - dense_4_loss: 2.3009 - dense_1_loss: 2.3010 - dense_3_loss: 2.3009 - dense_4_accuracy: 0.1122 - dense_1_accuracy: 0.1122 - dense_3_accuracy: 0.1122 - val_loss: 3.6829 - val_dense_4_loss: 2.3018 - val_dense_1_loss: 2.3018 - val_dense_3_loss: 2.3018 - val_dense_4_accuracy: 0.1070 - val_dense_1_accuracy: 0.1070 - val_dense_3_accuracy: 0.1070\n",
      "Epoch 9/10\n",
      "907/907 [==============================] - 2242s 2s/step - loss: 3.6824 - dense_4_loss: 2.3015 - dense_1_loss: 2.3016 - dense_3_loss: 2.3016 - dense_4_accuracy: 0.1113 - dense_1_accuracy: 0.1113 - dense_3_accuracy: 0.1113 - val_loss: 3.6830 - val_dense_4_loss: 2.3019 - val_dense_1_loss: 2.3018 - val_dense_3_loss: 2.3018 - val_dense_4_accuracy: 0.1070 - val_dense_1_accuracy: 0.1070 - val_dense_3_accuracy: 0.1070\n",
      "Epoch 10/10\n",
      "907/907 [==============================] - 2251s 2s/step - loss: 3.6818 - dense_4_loss: 2.3012 - dense_1_loss: 2.3011 - dense_3_loss: 2.3011 - dense_4_accuracy: 0.1131 - dense_1_accuracy: 0.1131 - dense_3_accuracy: 0.1131 - val_loss: 3.6828 - val_dense_4_loss: 2.3017 - val_dense_1_loss: 2.3017 - val_dense_3_loss: 2.3017 - val_dense_4_accuracy: 0.1070 - val_dense_1_accuracy: 0.1070 - val_dense_3_accuracy: 0.1070\n"
     ]
    }
   ],
   "source": [
    "model.compile(optimizer='adam', \n",
    "              loss=[losses.sparse_categorical_crossentropy,\n",
    "                    losses.sparse_categorical_crossentropy,\n",
    "                    losses.sparse_categorical_crossentropy]\n",
    "              ,loss_weights=[1, 0.3, 0.3],\n",
    "              metrics=['accuracy'])\n",
    "history = model.fit(X_train, [y_train, y_train, y_train], validation_data=(X_val, [y_val, y_val, y_val]), batch_size=64, epochs=10)"
   ]
  },
  {
   "cell_type": "code",
   "execution_count": null,
   "metadata": {},
   "outputs": [],
   "source": []
  },
  {
   "cell_type": "code",
   "execution_count": null,
   "metadata": {},
   "outputs": [],
   "source": []
  },
  {
   "cell_type": "code",
   "execution_count": null,
   "metadata": {},
   "outputs": [],
   "source": []
  },
  {
   "cell_type": "code",
   "execution_count": null,
   "metadata": {},
   "outputs": [],
   "source": []
  },
  {
   "cell_type": "code",
   "execution_count": null,
   "metadata": {},
   "outputs": [],
   "source": []
  }
 ],
 "metadata": {
  "kernelspec": {
   "display_name": "Python 3",
   "language": "python",
   "name": "python3"
  },
  "language_info": {
   "codemirror_mode": {
    "name": "ipython",
    "version": 3
   },
   "file_extension": ".py",
   "mimetype": "text/x-python",
   "name": "python",
   "nbconvert_exporter": "python",
   "pygments_lexer": "ipython3",
   "version": "3.8.5"
  }
 },
 "nbformat": 4,
 "nbformat_minor": 4
}
